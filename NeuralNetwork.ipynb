{
 "cells": [
  {
   "cell_type": "markdown",
   "source": [
    "Today, we will try to recognise digits in image using neural networks"
   ],
   "metadata": {
    "collapsed": false
   }
  },
  {
   "cell_type": "code",
   "execution_count": 21,
   "outputs": [],
   "source": [
    "import torch\n",
    "import torchvision\n",
    "import numpy as np\n",
    "import random as rd"
   ],
   "metadata": {
    "collapsed": false
   }
  },
  {
   "cell_type": "code",
   "execution_count": 22,
   "outputs": [],
   "source": [
    "#update hyperparameters for dataset\n",
    "# hyperpara are values used to adjust model parameters\n",
    "#no of epoch is no of times you go over training data\n",
    "numEpochs = 3\n",
    "#batch size is size of data chunk used each time for training or testing\n",
    "#optimizer is teaching the model and monitoring the momentum\n",
    "batch_size_train = 64\n",
    "batch_size_test = 64\n",
    "# rate at which neural network learns\n",
    "learning_rate = 0.01\n",
    "#momentum is speedup in learning rate expanding on current learning velocity\n",
    "momentum = 8.5\n",
    "\n",
    "log_intervals = 10"
   ],
   "metadata": {
    "collapsed": false
   }
  },
  {
   "cell_type": "code",
   "execution_count": 23,
   "outputs": [],
   "source": [
    "random_seed = 1996\n",
    "torch.manual_seed(random_seed)\n",
    "np.random.seed(random_seed)\n",
    "rd.seed(random_seed)"
   ],
   "metadata": {
    "collapsed": false
   }
  },
  {
   "cell_type": "code",
   "execution_count": 24,
   "outputs": [],
   "source": [
    "#load the datasets\n",
    "train_dataset = torchvision.datasets.MNIST('/files/', train=True, download=True,transform=torchvision.transforms.Compose([torchvision.transforms.ToTensor(),torchvision.transforms.Normalize((0.1307,), (0.3081,))]))\n",
    "\n",
    "\n",
    "test_dataset = torchvision.datasets.MNIST('/files/', train=False, download=True,transform=torchvision.transforms.Compose([torchvision.transforms.ToTensor(),torchvision.transforms.Normalize((0.1307,), (0.3081,))]))\n"
   ],
   "metadata": {
    "collapsed": false
   }
  },
  {
   "cell_type": "code",
   "execution_count": 25,
   "outputs": [],
   "source": [
    "#load dataset in a format that pytorch can use\n",
    "from torch.utils.data import DataLoader\n",
    "train_dataloader1 = DataLoader(train_dataset,shuffle = True,batch_size = batch_size_train)\n",
    "test_dataloader1 = DataLoader(test_dataset,shuffle = True,batch_size = batch_size_test)\n"
   ],
   "metadata": {
    "collapsed": false
   }
  },
  {
   "cell_type": "code",
   "execution_count": 26,
   "outputs": [],
   "source": [
    "#dealing with many mini datapoints/rows in a dataset and gives it one a t a time\n",
    "examplesEnumerator = enumerate(test_dataloader1)"
   ],
   "metadata": {
    "collapsed": false
   }
  },
  {
   "cell_type": "code",
   "execution_count": 27,
   "outputs": [
    {
     "name": "stdout",
     "output_type": "stream",
     "text": [
      "batch_id_for_example = 0\n",
      "exampleDate = torch.Size([64, 1, 28, 28])\n",
      "exampleLable = tensor([8, 5, 7, 5, 2, 7, 7, 9, 9, 2, 0, 1, 6, 0, 9, 7, 2, 6, 0, 3, 4, 8, 0, 6,\n",
      "        9, 7, 2, 5, 8, 6, 5, 3, 6, 4, 6, 9, 5, 3, 6, 7, 0, 2, 9, 9, 8, 2, 8, 0,\n",
      "        4, 6, 7, 7, 7, 6, 9, 8, 4, 2, 4, 3, 9, 1, 6, 2])\n"
     ]
    }
   ],
   "source": [
    "batch_id_for_example, (exampleDate, exampleLable) = next(examplesEnumerator)\n",
    "print(\"batch_id_for_example =\" ,batch_id_for_example)\n",
    "print(\"exampleDate =\" ,exampleDate.shape)\n",
    "print(\"exampleLable =\" ,exampleLable)"
   ],
   "metadata": {
    "collapsed": false
   }
  },
  {
   "cell_type": "code",
   "execution_count": 28,
   "outputs": [
    {
     "name": "stderr",
     "output_type": "stream",
     "text": [
      "C:\\Users\\tusht\\AppData\\Local\\Temp\\ipykernel_17996\\3295320960.py:12: UserWarning: Matplotlib is currently using module://matplotlib_inline.backend_inline, which is a non-GUI backend, so cannot show the figure.\n",
      "  fig.show()\n"
     ]
    },
    {
     "data": {
      "text/plain": "<Figure size 1500x600 with 10 Axes>",
      "image/png": "[encoded data removed]"
     },
     "metadata": {},
     "output_type": "display_data"
    }
   ],
   "source": [
    "import matplotlib.pyplot as plt\n",
    "\n",
    "fig = plt.figure(figsize=(15,6))\n",
    "for figureNumber in range(10):\n",
    "    plt.subplot(2,5,figureNumber+1)\n",
    "    plt.tight_layout()\n",
    "    plt.imshow(exampleDate[figureNumber][0],cmap = 'gray',interpolation='none')\n",
    "    plt.xticks([])\n",
    "    plt.yticks([])\n",
    "    plt.title(\"Ground truth labels = %d\"%exampleLable[figureNumber])\n",
    "\n",
    "fig.show()\n"
   ],
   "metadata": {
    "collapsed": false
   }
  },
  {
   "cell_type": "code",
   "execution_count": 29,
   "outputs": [],
   "source": [
    "#load libraries for building tbe network\n",
    "import torch.nn as nn\n",
    "import torch.optim as optim\n",
    "import torch.nn.functional as F"
   ],
   "metadata": {
    "collapsed": false
   }
  },
  {
   "cell_type": "code",
   "execution_count": 30,
   "outputs": [],
   "source": [
    "#Creating CNN - Convulution neural network\n",
    "class Net(nn.Module):\n",
    "    def __init__(self):\n",
    "        super(Net, self).__init__()#super->should initialize itself\n",
    "        self.conv1 = nn.Conv2d(1, 10, kernel_size=5)\n",
    "        self.conv2 = nn.Conv2d(10, 20, kernel_size=5)\n",
    "        self.conv2_drop = nn.Dropout2d()#dropping the redundant info\n",
    "        self.fc1 = nn.Linear(320, 50)\n",
    "        self.fc2 = nn.Linear(50, 10)\n",
    "\n",
    "    def forward(self, x): #input some data x havinng 28*28\n",
    "        x = F.relu(F.max_pool2d(self.conv1(x), 2))#relu -> rectified linear unit - if -ve then 0, otherwise keeping it as it is, max_pool -> output the largest no in the data, depending on its location,[pools the info and gives the max\n",
    "        x = F.relu(F.max_pool2d(self.conv2_drop(self.conv2(x)), 2))\n",
    "        x = x.view(-1, 320)\n",
    "        x = F.relu(self.fc1(x))\n",
    "        x = F.dropout(x, training=self.training)\n",
    "        x = self.fc2(x)\n",
    "        #softmax simply output max value, but does it within threshholds based on probability.\n",
    "        return F.log_softmax(x)\n",
    "\n"
   ],
   "metadata": {
    "collapsed": false
   }
  },
  {
   "cell_type": "code",
   "execution_count": 31,
   "outputs": [],
   "source": [
    "#student = model\n",
    "network = Net()\n",
    "#teacher = optimizer\n",
    "#SGD = stochastic gradient descent\n",
    "optimizer = optim.SGD(network.parameters(), lr = learning_rate, momentum=momentum)"
   ],
   "metadata": {
    "collapsed": false
   }
  },
  {
   "cell_type": "code",
   "execution_count": 32,
   "outputs": [
    {
     "name": "stdout",
     "output_type": "stream",
     "text": [
      "len(train_dataloader.dataset)= 60000\n",
      "test_counter [0, 60000, 120000, 180000]\n"
     ]
    }
   ],
   "source": [
    "#store the training value and arrays\n",
    "train_losses = []\n",
    "train_counter = []\n",
    "test_losses = []\n",
    "test_counter = []\n",
    "print(\"len(train_dataloader.dataset)=\",len(train_dataloader1.dataset))\n",
    "test_counter = [i*len(train_dataloader1.dataset) for i in range(numEpochs+1)]\n",
    "print(\"test_counter\",test_counter)"
   ],
   "metadata": {
    "collapsed": false
   }
  },
  {
   "cell_type": "code",
   "execution_count": 33,
   "outputs": [],
   "source": [
    "def train(epoch):\n",
    "    network.train()\n",
    "    for batch_idx, (data, target) in enumerate(train_loader):\n",
    "        optimizer.zero_grad()\n",
    "        output = network(data)\n",
    "        loss = F.nll_loss(output, target)\n",
    "        loss.backward()\n",
    "        optimizer.step()\n",
    "        if batch_idx % log_interval == 0:\n",
    "            print('Train Epoch: {} [{}/{} ({:.0f}%)]\\tLoss: {:.6f}'.format(\n",
    "                epoch, batch_idx * len(data), len(train_loader.dataset),\n",
    "                       100. * batch_idx / len(train_loader), loss.item()))\n",
    "            train_losses.append(loss.item())\n",
    "            train_counter.append(\n",
    "                (batch_idx*64) + ((epoch-1)*len(train_loader.dataset)))\n",
    "            torch.save(network.state_dict(), '/results/model.pth')\n",
    "            torch.save(optimizer.state_dict(), '/results/optimizer.pth')\n",
    "\n",
    "def test():\n",
    "    network.eval()\n",
    "    test_loss = 0\n",
    "    correct = 0\n",
    "    with torch.no_grad():\n",
    "        for data, target in test_loader:\n",
    "            output = network(data)\n",
    "            test_loss += F.nll_loss(output, target, size_average=False).item()\n",
    "            pred = output.data.max(1, keepdim=True)[1]\n",
    "            correct += pred.eq(target.data.view_as(pred)).sum()\n",
    "    test_loss /= len(test_loader.dataset)\n",
    "    test_losses.append(test_loss)\n",
    "    print('\\nTest set: Avg. loss: {:.4f}, Accuracy: {}/{} ({:.0f}%)\\n'.format(\n",
    "        test_loss, correct, len(test_loader.dataset),\n",
    "        100. * correct / len(test_loader.dataset)))"
   ],
   "metadata": {
    "collapsed": false
   }
  },
  {
   "cell_type": "code",
   "execution_count": 34,
   "outputs": [],
   "source": [
    "def train(epoch):\n",
    "    network.train()\n",
    "    for batch_idx, (data, target) in enumerate(train_dataloader1):\n",
    "        optimizer.zero_grad()#not learning anything as of now\n",
    "        output = network(data)\n",
    "        loss = F.nll_loss(output, target)#student commit mistakes\n",
    "        loss.backward()#student goes back to review\n",
    "        optimizer.step()#determing the learning speed\n",
    "        if batch_idx % log_intervals == 0:#printing the values\n",
    "            print('Train Epoch: {} [{}/{} ({:.0f}%)]\\tLoss: {:.6f}'.format(\n",
    "                epoch, batch_idx * len(data), len(train_dataloader1.dataset),\n",
    "                       100. * batch_idx / len(train_dataloader1), loss.item()))\n",
    "            train_losses.append(loss.item())\n",
    "            train_counter.append(\n",
    "                (batch_idx*64) + ((epoch-1)*len(train_dataloader1.dataset)))\n",
    "            torch.save(network.state_dict(), 'results/model.pth')\n",
    "            torch.save(optimizer.state_dict(), 'results/optimizer.pth')\n",
    "\n",
    "def test():\n",
    "    network.eval()\n",
    "    test_loss = 0\n",
    "    correct = 0\n",
    "    with torch.no_grad():\n",
    "        for data, target in test_dataloader1:\n",
    "            output = network(data)\n",
    "            test_loss += F.nll_loss(output, target, size_average=False).item()\n",
    "            pred = output.data.max(1, keepdim=True)[1]\n",
    "            correct += pred.eq(target.data.view_as(pred)).sum()\n",
    "    test_loss /= len(test_dataloader1.dataset)\n",
    "    test_losses.append(test_loss)\n",
    "    print('\\nTest set: Avg. loss: {:.4f}, Accuracy: {}/{} ({:.0f}%)\\n'.format(\n",
    "        test_loss, correct, len(test_dataloader1.dataset),\n",
    "        100. * correct / len(test_dataloader1.dataset)))"
   ],
   "metadata": {
    "collapsed": false
   }
  },
  {
   "cell_type": "code",
   "execution_count": null,
   "outputs": [
    {
     "name": "stderr",
     "output_type": "stream",
     "text": [
      "C:\\Users\\tusht\\AppData\\Local\\Temp\\ipykernel_17996\\4112713736.py:19: UserWarning: Implicit dimension choice for log_softmax has been deprecated. Change the call to include dim=X as an argument.\n",
      "  return F.log_softmax(x)\n"
     ]
    },
    {
     "name": "stdout",
     "output_type": "stream",
     "text": [
      "\n",
      "Test set: Avg. loss: 2.3081, Accuracy: 950/10000 (10%)\n",
      "\n",
      "Train Epoch: 1 [0/60000 (0%)]\tLoss: 2.309765\n",
      "Train Epoch: 1 [640/60000 (1%)]\tLoss: 75760397012959232.000000\n",
      "Train Epoch: 1 [1280/60000 (2%)]\tLoss: nan\n",
      "Train Epoch: 1 [1920/60000 (3%)]\tLoss: nan\n",
      "Train Epoch: 1 [2560/60000 (4%)]\tLoss: nan\n",
      "Train Epoch: 1 [3200/60000 (5%)]\tLoss: nan\n",
      "Train Epoch: 1 [3840/60000 (6%)]\tLoss: nan\n",
      "Train Epoch: 1 [4480/60000 (7%)]\tLoss: nan\n",
      "Train Epoch: 1 [5120/60000 (9%)]\tLoss: nan\n",
      "Train Epoch: 1 [5760/60000 (10%)]\tLoss: nan\n",
      "Train Epoch: 1 [6400/60000 (11%)]\tLoss: nan\n",
      "Train Epoch: 1 [7040/60000 (12%)]\tLoss: nan\n",
      "Train Epoch: 1 [7680/60000 (13%)]\tLoss: nan\n",
      "Train Epoch: 1 [8320/60000 (14%)]\tLoss: nan\n",
      "Train Epoch: 1 [8960/60000 (15%)]\tLoss: nan\n",
      "Train Epoch: 1 [9600/60000 (16%)]\tLoss: nan\n",
      "Train Epoch: 1 [10240/60000 (17%)]\tLoss: nan\n",
      "Train Epoch: 1 [10880/60000 (18%)]\tLoss: nan\n",
      "Train Epoch: 1 [11520/60000 (19%)]\tLoss: nan\n",
      "Train Epoch: 1 [12160/60000 (20%)]\tLoss: nan\n",
      "Train Epoch: 1 [12800/60000 (21%)]\tLoss: nan\n",
      "Train Epoch: 1 [13440/60000 (22%)]\tLoss: nan\n",
      "Train Epoch: 1 [14080/60000 (23%)]\tLoss: nan\n",
      "Train Epoch: 1 [14720/60000 (25%)]\tLoss: nan\n",
      "Train Epoch: 1 [15360/60000 (26%)]\tLoss: nan\n",
      "Train Epoch: 1 [16000/60000 (27%)]\tLoss: nan\n",
      "Train Epoch: 1 [16640/60000 (28%)]\tLoss: nan\n",
      "Train Epoch: 1 [17280/60000 (29%)]\tLoss: nan\n",
      "Train Epoch: 1 [17920/60000 (30%)]\tLoss: nan\n",
      "Train Epoch: 1 [18560/60000 (31%)]\tLoss: nan\n",
      "Train Epoch: 1 [19200/60000 (32%)]\tLoss: nan\n",
      "Train Epoch: 1 [19840/60000 (33%)]\tLoss: nan\n",
      "Train Epoch: 1 [20480/60000 (34%)]\tLoss: nan\n",
      "Train Epoch: 1 [21120/60000 (35%)]\tLoss: nan\n",
      "Train Epoch: 1 [21760/60000 (36%)]\tLoss: nan\n",
      "Train Epoch: 1 [22400/60000 (37%)]\tLoss: nan\n",
      "Train Epoch: 1 [23040/60000 (38%)]\tLoss: nan\n",
      "Train Epoch: 1 [23680/60000 (39%)]\tLoss: nan\n",
      "Train Epoch: 1 [24320/60000 (41%)]\tLoss: nan\n",
      "Train Epoch: 1 [24960/60000 (42%)]\tLoss: nan\n",
      "Train Epoch: 1 [25600/60000 (43%)]\tLoss: nan\n",
      "Train Epoch: 1 [26240/60000 (44%)]\tLoss: nan\n",
      "Train Epoch: 1 [26880/60000 (45%)]\tLoss: nan\n",
      "Train Epoch: 1 [27520/60000 (46%)]\tLoss: nan\n",
      "Train Epoch: 1 [28160/60000 (47%)]\tLoss: nan\n",
      "Train Epoch: 1 [28800/60000 (48%)]\tLoss: nan\n",
      "Train Epoch: 1 [29440/60000 (49%)]\tLoss: nan\n",
      "Train Epoch: 1 [30080/60000 (50%)]\tLoss: nan\n",
      "Train Epoch: 1 [30720/60000 (51%)]\tLoss: nan\n",
      "Train Epoch: 1 [31360/60000 (52%)]\tLoss: nan\n",
      "Train Epoch: 1 [32000/60000 (53%)]\tLoss: nan\n",
      "Train Epoch: 1 [32640/60000 (54%)]\tLoss: nan\n",
      "Train Epoch: 1 [33280/60000 (55%)]\tLoss: nan\n",
      "Train Epoch: 1 [33920/60000 (57%)]\tLoss: nan\n",
      "Train Epoch: 1 [34560/60000 (58%)]\tLoss: nan\n",
      "Train Epoch: 1 [35200/60000 (59%)]\tLoss: nan\n",
      "Train Epoch: 1 [35840/60000 (60%)]\tLoss: nan\n",
      "Train Epoch: 1 [36480/60000 (61%)]\tLoss: nan\n",
      "Train Epoch: 1 [37120/60000 (62%)]\tLoss: nan\n",
      "Train Epoch: 1 [37760/60000 (63%)]\tLoss: nan\n",
      "Train Epoch: 1 [38400/60000 (64%)]\tLoss: nan\n",
      "Train Epoch: 1 [39040/60000 (65%)]\tLoss: nan\n",
      "Train Epoch: 1 [39680/60000 (66%)]\tLoss: nan\n",
      "Train Epoch: 1 [40320/60000 (67%)]\tLoss: nan\n",
      "Train Epoch: 1 [40960/60000 (68%)]\tLoss: nan\n",
      "Train Epoch: 1 [41600/60000 (69%)]\tLoss: nan\n",
      "Train Epoch: 1 [42240/60000 (70%)]\tLoss: nan\n",
      "Train Epoch: 1 [42880/60000 (71%)]\tLoss: nan\n",
      "Train Epoch: 1 [43520/60000 (72%)]\tLoss: nan\n"
     ]
    }
   ],
   "source": [
    "test()\n",
    "for epoch in range(1, numEpochs + 1):\n",
    "    train(epoch)\n",
    "    test()"
   ],
   "metadata": {
    "collapsed": false,
    "pycharm": {
     "is_executing": true
    }
   }
  },
  {
   "cell_type": "code",
   "execution_count": null,
   "outputs": [],
   "source": [],
   "metadata": {
    "collapsed": false,
    "pycharm": {
     "is_executing": true
    }
   }
  }
 ],
 "metadata": {
  "kernelspec": {
   "display_name": "Python 3",
   "language": "python",
   "name": "python3"
  },
  "language_info": {
   "codemirror_mode": {
    "name": "ipython",
    "version": 2
   },
   "file_extension": ".py",
   "mimetype": "text/x-python",
   "name": "python",
   "nbconvert_exporter": "python",
   "pygments_lexer": "ipython2",
   "version": "2.7.6"
  }
 },
 "nbformat": 4,
 "nbformat_minor": 0
}
