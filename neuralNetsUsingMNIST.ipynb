{
 "cells": [
  {
   "cell_type": "markdown",
   "source": [
    "Today we will try to recognise digits in images using neural networks."
   ],
   "metadata": {
    "collapsed": false
   }
  },
  {
   "cell_type": "code",
   "execution_count": 2,
   "outputs": [],
   "source": [
    "# import libraries\n",
    "import torch\n",
    "import torchvision\n",
    "import numpy as np\n",
    "import random as rd"
   ],
   "metadata": {
    "collapsed": false
   }
  },
  {
   "cell_type": "code",
   "execution_count": 3,
   "outputs": [],
   "source": [
    "# Update hyperparameters for the model\n",
    "# Hyperparameters are values that you use to adjust the model parameters.\n",
    "\n",
    "# Number of epochs is the number of times you go over training data\n",
    "numEpochs = 3\n",
    "\n",
    "# batch size is the size of the chunk used each time for training (or testing)\n",
    "batch_size_train = 64\n",
    "batch_size_test = 64\n",
    "# The rate at which the neural network learns\n",
    "learning_rate = 0.01\n",
    "# momentum is the speedup in learning rate depending on the current learning velocity\n",
    "momentum = 0.5\n",
    "# After how many steps should we print outputs\n",
    "log_intervals = 10"
   ],
   "metadata": {
    "collapsed": false
   }
  },
  {
   "cell_type": "code",
   "execution_count": 4,
   "outputs": [],
   "source": [
    "random_seed = 1996\n",
    "torch.manual_seed(random_seed)\n",
    "np.random.seed(random_seed)\n",
    "rd.seed(random_seed)"
   ],
   "metadata": {
    "collapsed": false
   }
  },
  {
   "cell_type": "code",
   "execution_count": 5,
   "outputs": [],
   "source": [
    "# Load the datasets\n",
    "train_dataset = torchvision.datasets.MNIST('/files/', train=True, download=True,transform=torchvision.transforms.Compose([torchvision.transforms.ToTensor(),torchvision.transforms.Normalize((0.1307,), (0.3081,))]))\n",
    "\n",
    "test_dataset = torchvision.datasets.MNIST('/files/', train=False, download=True,transform=torchvision.transforms.Compose([torchvision.transforms.ToTensor(),torchvision.transforms.Normalize((0.1307,), (0.3081,))]))\n",
    "\n"
   ],
   "metadata": {
    "collapsed": false
   }
  },
  {
   "cell_type": "code",
   "execution_count": 6,
   "outputs": [],
   "source": [
    "# Load the datasets in a format that pytorch can use\n",
    "from torch.utils.data import DataLoader\n",
    "train_dataloader = DataLoader(train_dataset,batch_size=batch_size_train,shuffle=True)\n",
    "test_dataloader = DataLoader(test_dataset,batch_size=batch_size_test,shuffle=True)"
   ],
   "metadata": {
    "collapsed": false
   }
  },
  {
   "cell_type": "code",
   "execution_count": 7,
   "outputs": [],
   "source": [
    "examplesEnumerator = enumerate(test_dataloader)\n"
   ],
   "metadata": {
    "collapsed": false
   }
  },
  {
   "cell_type": "code",
   "execution_count": 8,
   "outputs": [
    {
     "name": "stdout",
     "output_type": "stream",
     "text": [
      "batch_id_for_example= 0\n",
      "exampleLabel= tensor([8, 5, 7, 5, 2, 7, 7, 9, 9, 2, 0, 1, 6, 0, 9, 7, 2, 6, 0, 3, 4, 8, 0, 6,\n",
      "        9, 7, 2, 5, 8, 6, 5, 3, 6, 4, 6, 9, 5, 3, 6, 7, 0, 2, 9, 9, 8, 2, 8, 0,\n",
      "        4, 6, 7, 7, 7, 6, 9, 8, 4, 2, 4, 3, 9, 1, 6, 2])\n",
      "exampleData.shape= torch.Size([64, 1, 28, 28])\n"
     ]
    }
   ],
   "source": [
    "batch_id_for_example, (exampleData,exampleLabel) = next(examplesEnumerator)\n",
    "\n",
    "print(\"batch_id_for_example=\",batch_id_for_example)\n",
    "print(\"exampleLabel=\",exampleLabel)\n",
    "print(\"exampleData.shape=\",exampleData.shape)"
   ],
   "metadata": {
    "collapsed": false
   }
  },
  {
   "cell_type": "code",
   "execution_count": 9,
   "outputs": [
    {
     "name": "stderr",
     "output_type": "stream",
     "text": [
      "C:\\Users\\tusht\\AppData\\Local\\Temp\\ipykernel_12208\\1788316080.py:14: UserWarning: Matplotlib is currently using module://matplotlib_inline.backend_inline, which is a non-GUI backend, so cannot show the figure.\n",
      "  fig.show()\n"
     ]
    },
    {
     "data": {
      "text/plain": "<Figure size 1500x600 with 10 Axes>",
      "image/png": "[encoded data removed]"
     },
     "metadata": {},
     "output_type": "display_data"
    }
   ],
   "source": [
    "import matplotlib.pyplot as plt\n",
    "\n",
    "fig = plt.figure(figsize=(15,6))\n",
    "\n",
    "for figureNumber in range(10):\n",
    "    plt.subplot(2,5,figureNumber+1)\n",
    "    plt.tight_layout()\n",
    "    plt.imshow(exampleData[figureNumber][0], cmap=\"gray\",interpolation='none')\n",
    "    plt.xticks([])\n",
    "    plt.yticks([])\n",
    "    plt.title(\"Ground Truth Labels = %d\"%exampleLabel[figureNumber])\n",
    "\n",
    "\n",
    "fig.show()\n",
    "\n"
   ],
   "metadata": {
    "collapsed": false
   }
  },
  {
   "cell_type": "code",
   "execution_count": 10,
   "outputs": [],
   "source": [
    "# import the libraries used for building the network\n",
    "import torch.nn as nn\n",
    "import torch.optim as optim\n",
    "import torch.nn.functional as F"
   ],
   "metadata": {
    "collapsed": false
   }
  },
  {
   "cell_type": "code",
   "execution_count": 11,
   "outputs": [],
   "source": [
    "class Net(nn.Module):\n",
    "    def __init__(self):\n",
    "        super(Net,self).__init__()\n",
    "        super(Net, self).__init__()\n",
    "        self.conv1 = nn.Conv2d(1,10,kernel_size=5)\n",
    "        self.conv2 = nn.Conv2d(10,20,kernel_size=5)\n",
    "        self.conv2_drop = nn.Dropout2d()\n",
    "        self.fc1 = nn.Linear(320,50)\n",
    "        self.fc2 = nn.Linear(50,10)\n",
    "\n",
    "    def forward(self, x):\n",
    "        # RELU = rectified linear unit\n",
    "        # maxpool = pools the information and gives the max\n",
    "        x = F.relu(F.max_pool2d(self.conv1(x), 2))\n",
    "        # x = F.relu(F.max_pool2d(self.conv2_drop(self.conv2(x)), 2))\n",
    "        x = F.relu(F.max_pool2d(self.conv2_drop(self.conv2(x)), 2))\n",
    "        x = x.view(-1, 320)\n",
    "        x = F.relu(self.fc1(x))\n",
    "        x = F.dropout(x, training=self.training)\n",
    "        x = self.fc2(x)\n",
    "        # softmax = outputs the maximum value, but does it within thresholds\n",
    "        return F.log_softmax(x)"
   ],
   "metadata": {
    "collapsed": false
   }
  },
  {
   "cell_type": "code",
   "execution_count": 12,
   "outputs": [],
   "source": [
    "# student = model\n",
    "network = Net()\n",
    "# teacher = optimizer\n",
    "# SGD = stochastic gradient descent\n",
    "optimizer = optim.SGD(network.parameters(), lr=learning_rate,momentum=momentum)"
   ],
   "metadata": {
    "collapsed": false
   }
  },
  {
   "cell_type": "code",
   "execution_count": 13,
   "outputs": [
    {
     "name": "stdout",
     "output_type": "stream",
     "text": [
      "len(train_dataloader.dataset)= 60000\n",
      "test_counter= [0, 60000, 120000, 180000]\n"
     ]
    }
   ],
   "source": [
    "# store the training values and errors\n",
    "train_losses = []\n",
    "train_counter = []\n",
    "test_losses = []\n",
    "print(\"len(train_dataloader.dataset)=\",len(train_dataloader.dataset))\n",
    "test_counter = [i*len(train_dataloader.dataset) for i in range(numEpochs+1)]\n",
    "print(\"test_counter=\",test_counter)"
   ],
   "metadata": {
    "collapsed": false
   }
  },
  {
   "cell_type": "code",
   "execution_count": 14,
   "outputs": [],
   "source": [
    "def train(epoch):\n",
    "    network.train()\n",
    "    for batch_idx, (data, target) in enumerate(train_dataloader):\n",
    "        optimizer.zero_grad()\n",
    "        output = network(data)\n",
    "        loss = F.nll_loss(output, target)\n",
    "        loss.backward()\n",
    "        optimizer.step()\n",
    "        if batch_idx % log_intervals == 0:\n",
    "            print('Train Epoch: {} [{}/{} ({:.0f}%)]\\tLoss: {:.6f}'.format(\n",
    "                epoch, batch_idx * len(data), len(train_dataloader.dataset),\n",
    "                       100. * batch_idx / len(train_dataloader), loss.item()))\n",
    "            train_losses.append(loss.item())\n",
    "            train_counter.append(\n",
    "                (batch_idx*64) + ((epoch-1)*len(train_dataloader.dataset)))\n",
    "            torch.save(network.state_dict(), 'results/model.pth')\n",
    "            torch.save(optimizer.state_dict(), 'results/optimizer.pth')"
   ],
   "metadata": {
    "collapsed": false
   }
  },
  {
   "cell_type": "code",
   "execution_count": 15,
   "outputs": [],
   "source": [
    "def test():\n",
    "    network.eval()\n",
    "    test_loss = 0\n",
    "    correct = 0\n",
    "    with torch.no_grad():\n",
    "        for data, target in test_dataloader:\n",
    "            output = network(data)\n",
    "            test_loss += F.nll_loss(output, target, size_average=False).item()\n",
    "            pred = output.data.max(1, keepdim=True)[1]\n",
    "            correct += pred.eq(target.data.view_as(pred)).sum()\n",
    "    test_loss /= len(test_dataloader.dataset)\n",
    "    test_losses.append(test_loss)\n",
    "    print('\\nTest set: Avg. loss: {:.4f}, Accuracy: {}/{} ({:.0f}%)\\n'.format(\n",
    "        test_loss, correct, len(test_dataloader.dataset),\n",
    "        100. * correct / len(test_dataloader.dataset)))"
   ],
   "metadata": {
    "collapsed": false
   }
  },
  {
   "cell_type": "code",
   "execution_count": 16,
   "outputs": [
    {
     "name": "stderr",
     "output_type": "stream",
     "text": [
      "C:\\Users\\tusht\\AppData\\Local\\Temp\\ipykernel_12208\\44468947.py:22: UserWarning: Implicit dimension choice for log_softmax has been deprecated. Change the call to include dim=X as an argument.\n",
      "  return F.log_softmax(x)\n",
      "C:\\Users\\tusht\\anaconda3\\envs\\nyenv\\lib\\site-packages\\torch\\nn\\_reduction.py:42: UserWarning: size_average and reduce args will be deprecated, please use reduction='sum' instead.\n",
      "  warnings.warn(warning.format(ret))\n"
     ]
    },
    {
     "name": "stdout",
     "output_type": "stream",
     "text": [
      "\n",
      "Test set: Avg. loss: 2.3081, Accuracy: 950/10000 (10%)\n",
      "\n",
      "Train Epoch: 1 [0/60000 (0%)]\tLoss: 2.309765\n",
      "Train Epoch: 1 [640/60000 (1%)]\tLoss: 2.290458\n",
      "Train Epoch: 1 [1280/60000 (2%)]\tLoss: 2.291238\n",
      "Train Epoch: 1 [1920/60000 (3%)]\tLoss: 2.292878\n",
      "Train Epoch: 1 [2560/60000 (4%)]\tLoss: 2.252179\n",
      "Train Epoch: 1 [3200/60000 (5%)]\tLoss: 2.237053\n",
      "Train Epoch: 1 [3840/60000 (6%)]\tLoss: 2.229858\n",
      "Train Epoch: 1 [4480/60000 (7%)]\tLoss: 2.175314\n",
      "Train Epoch: 1 [5120/60000 (9%)]\tLoss: 2.171839\n",
      "Train Epoch: 1 [5760/60000 (10%)]\tLoss: 2.063246\n",
      "Train Epoch: 1 [6400/60000 (11%)]\tLoss: 2.057192\n",
      "Train Epoch: 1 [7040/60000 (12%)]\tLoss: 1.955937\n",
      "Train Epoch: 1 [7680/60000 (13%)]\tLoss: 1.961645\n",
      "Train Epoch: 1 [8320/60000 (14%)]\tLoss: 1.670354\n",
      "Train Epoch: 1 [8960/60000 (15%)]\tLoss: 1.749771\n",
      "Train Epoch: 1 [9600/60000 (16%)]\tLoss: 1.497263\n",
      "Train Epoch: 1 [10240/60000 (17%)]\tLoss: 1.321234\n",
      "Train Epoch: 1 [10880/60000 (18%)]\tLoss: 1.233530\n",
      "Train Epoch: 1 [11520/60000 (19%)]\tLoss: 1.238351\n",
      "Train Epoch: 1 [12160/60000 (20%)]\tLoss: 1.125863\n",
      "Train Epoch: 1 [12800/60000 (21%)]\tLoss: 0.984375\n",
      "Train Epoch: 1 [13440/60000 (22%)]\tLoss: 1.006915\n",
      "Train Epoch: 1 [14080/60000 (23%)]\tLoss: 1.159303\n",
      "Train Epoch: 1 [14720/60000 (25%)]\tLoss: 1.064746\n",
      "Train Epoch: 1 [15360/60000 (26%)]\tLoss: 0.982648\n",
      "Train Epoch: 1 [16000/60000 (27%)]\tLoss: 0.869590\n",
      "Train Epoch: 1 [16640/60000 (28%)]\tLoss: 0.850057\n",
      "Train Epoch: 1 [17280/60000 (29%)]\tLoss: 1.028348\n",
      "Train Epoch: 1 [17920/60000 (30%)]\tLoss: 0.757221\n",
      "Train Epoch: 1 [18560/60000 (31%)]\tLoss: 0.721387\n",
      "Train Epoch: 1 [19200/60000 (32%)]\tLoss: 0.646136\n",
      "Train Epoch: 1 [19840/60000 (33%)]\tLoss: 0.651580\n",
      "Train Epoch: 1 [20480/60000 (34%)]\tLoss: 0.743353\n",
      "Train Epoch: 1 [21120/60000 (35%)]\tLoss: 0.840473\n",
      "Train Epoch: 1 [21760/60000 (36%)]\tLoss: 0.920870\n",
      "Train Epoch: 1 [22400/60000 (37%)]\tLoss: 0.931788\n",
      "Train Epoch: 1 [23040/60000 (38%)]\tLoss: 0.856705\n",
      "Train Epoch: 1 [23680/60000 (39%)]\tLoss: 0.830579\n",
      "Train Epoch: 1 [24320/60000 (41%)]\tLoss: 0.781163\n",
      "Train Epoch: 1 [24960/60000 (42%)]\tLoss: 0.681713\n",
      "Train Epoch: 1 [25600/60000 (43%)]\tLoss: 0.698025\n",
      "Train Epoch: 1 [26240/60000 (44%)]\tLoss: 0.553582\n",
      "Train Epoch: 1 [26880/60000 (45%)]\tLoss: 0.703233\n",
      "Train Epoch: 1 [27520/60000 (46%)]\tLoss: 0.458781\n",
      "Train Epoch: 1 [28160/60000 (47%)]\tLoss: 0.651018\n",
      "Train Epoch: 1 [28800/60000 (48%)]\tLoss: 0.651166\n",
      "Train Epoch: 1 [29440/60000 (49%)]\tLoss: 0.704497\n",
      "Train Epoch: 1 [30080/60000 (50%)]\tLoss: 0.646303\n",
      "Train Epoch: 1 [30720/60000 (51%)]\tLoss: 0.538291\n",
      "Train Epoch: 1 [31360/60000 (52%)]\tLoss: 0.568546\n",
      "Train Epoch: 1 [32000/60000 (53%)]\tLoss: 0.617400\n",
      "Train Epoch: 1 [32640/60000 (54%)]\tLoss: 0.515796\n",
      "Train Epoch: 1 [33280/60000 (55%)]\tLoss: 0.432566\n",
      "Train Epoch: 1 [33920/60000 (57%)]\tLoss: 0.410683\n",
      "Train Epoch: 1 [34560/60000 (58%)]\tLoss: 0.738642\n",
      "Train Epoch: 1 [35200/60000 (59%)]\tLoss: 0.718054\n",
      "Train Epoch: 1 [35840/60000 (60%)]\tLoss: 0.789702\n",
      "Train Epoch: 1 [36480/60000 (61%)]\tLoss: 0.410288\n",
      "Train Epoch: 1 [37120/60000 (62%)]\tLoss: 0.413440\n",
      "Train Epoch: 1 [37760/60000 (63%)]\tLoss: 0.340492\n",
      "Train Epoch: 1 [38400/60000 (64%)]\tLoss: 0.468175\n",
      "Train Epoch: 1 [39040/60000 (65%)]\tLoss: 0.385402\n",
      "Train Epoch: 1 [39680/60000 (66%)]\tLoss: 0.495030\n",
      "Train Epoch: 1 [40320/60000 (67%)]\tLoss: 0.558485\n",
      "Train Epoch: 1 [40960/60000 (68%)]\tLoss: 0.506715\n",
      "Train Epoch: 1 [41600/60000 (69%)]\tLoss: 0.565360\n",
      "Train Epoch: 1 [42240/60000 (70%)]\tLoss: 0.267090\n",
      "Train Epoch: 1 [42880/60000 (71%)]\tLoss: 0.690159\n",
      "Train Epoch: 1 [43520/60000 (72%)]\tLoss: 0.535352\n",
      "Train Epoch: 1 [44160/60000 (74%)]\tLoss: 0.311802\n",
      "Train Epoch: 1 [44800/60000 (75%)]\tLoss: 0.421032\n",
      "Train Epoch: 1 [45440/60000 (76%)]\tLoss: 0.517116\n",
      "Train Epoch: 1 [46080/60000 (77%)]\tLoss: 0.480608\n",
      "Train Epoch: 1 [46720/60000 (78%)]\tLoss: 0.531115\n",
      "Train Epoch: 1 [47360/60000 (79%)]\tLoss: 0.345563\n",
      "Train Epoch: 1 [48000/60000 (80%)]\tLoss: 0.326116\n",
      "Train Epoch: 1 [48640/60000 (81%)]\tLoss: 0.319035\n",
      "Train Epoch: 1 [49280/60000 (82%)]\tLoss: 0.328116\n",
      "Train Epoch: 1 [49920/60000 (83%)]\tLoss: 0.471385\n",
      "Train Epoch: 1 [50560/60000 (84%)]\tLoss: 0.599190\n",
      "Train Epoch: 1 [51200/60000 (85%)]\tLoss: 0.481924\n",
      "Train Epoch: 1 [51840/60000 (86%)]\tLoss: 0.421645\n",
      "Train Epoch: 1 [52480/60000 (87%)]\tLoss: 0.383838\n",
      "Train Epoch: 1 [53120/60000 (88%)]\tLoss: 0.393834\n",
      "Train Epoch: 1 [53760/60000 (90%)]\tLoss: 0.498461\n",
      "Train Epoch: 1 [54400/60000 (91%)]\tLoss: 0.544214\n",
      "Train Epoch: 1 [55040/60000 (92%)]\tLoss: 0.514115\n",
      "Train Epoch: 1 [55680/60000 (93%)]\tLoss: 0.466836\n",
      "Train Epoch: 1 [56320/60000 (94%)]\tLoss: 0.530086\n",
      "Train Epoch: 1 [56960/60000 (95%)]\tLoss: 0.706846\n",
      "Train Epoch: 1 [57600/60000 (96%)]\tLoss: 0.380443\n",
      "Train Epoch: 1 [58240/60000 (97%)]\tLoss: 0.239195\n",
      "Train Epoch: 1 [58880/60000 (98%)]\tLoss: 0.462964\n",
      "Train Epoch: 1 [59520/60000 (99%)]\tLoss: 0.325985\n",
      "\n",
      "Test set: Avg. loss: 0.1571, Accuracy: 9550/10000 (96%)\n",
      "\n",
      "Train Epoch: 2 [0/60000 (0%)]\tLoss: 0.225209\n",
      "Train Epoch: 2 [640/60000 (1%)]\tLoss: 0.448166\n",
      "Train Epoch: 2 [1280/60000 (2%)]\tLoss: 0.377418\n",
      "Train Epoch: 2 [1920/60000 (3%)]\tLoss: 0.443699\n",
      "Train Epoch: 2 [2560/60000 (4%)]\tLoss: 0.523504\n",
      "Train Epoch: 2 [3200/60000 (5%)]\tLoss: 0.365619\n",
      "Train Epoch: 2 [3840/60000 (6%)]\tLoss: 0.352486\n",
      "Train Epoch: 2 [4480/60000 (7%)]\tLoss: 0.447755\n",
      "Train Epoch: 2 [5120/60000 (9%)]\tLoss: 0.626743\n",
      "Train Epoch: 2 [5760/60000 (10%)]\tLoss: 0.189476\n",
      "Train Epoch: 2 [6400/60000 (11%)]\tLoss: 0.416409\n",
      "Train Epoch: 2 [7040/60000 (12%)]\tLoss: 0.432606\n",
      "Train Epoch: 2 [7680/60000 (13%)]\tLoss: 0.319449\n",
      "Train Epoch: 2 [8320/60000 (14%)]\tLoss: 0.395613\n",
      "Train Epoch: 2 [8960/60000 (15%)]\tLoss: 0.223151\n",
      "Train Epoch: 2 [9600/60000 (16%)]\tLoss: 0.224521\n",
      "Train Epoch: 2 [10240/60000 (17%)]\tLoss: 0.393807\n",
      "Train Epoch: 2 [10880/60000 (18%)]\tLoss: 0.338295\n",
      "Train Epoch: 2 [11520/60000 (19%)]\tLoss: 0.320752\n",
      "Train Epoch: 2 [12160/60000 (20%)]\tLoss: 0.243498\n",
      "Train Epoch: 2 [12800/60000 (21%)]\tLoss: 0.905869\n",
      "Train Epoch: 2 [13440/60000 (22%)]\tLoss: 0.345012\n",
      "Train Epoch: 2 [14080/60000 (23%)]\tLoss: 0.385626\n",
      "Train Epoch: 2 [14720/60000 (25%)]\tLoss: 0.313817\n",
      "Train Epoch: 2 [15360/60000 (26%)]\tLoss: 0.531338\n",
      "Train Epoch: 2 [16000/60000 (27%)]\tLoss: 0.286953\n",
      "Train Epoch: 2 [16640/60000 (28%)]\tLoss: 0.440292\n",
      "Train Epoch: 2 [17280/60000 (29%)]\tLoss: 0.267700\n",
      "Train Epoch: 2 [17920/60000 (30%)]\tLoss: 0.393119\n",
      "Train Epoch: 2 [18560/60000 (31%)]\tLoss: 0.315373\n",
      "Train Epoch: 2 [19200/60000 (32%)]\tLoss: 0.163223\n",
      "Train Epoch: 2 [19840/60000 (33%)]\tLoss: 0.524247\n",
      "Train Epoch: 2 [20480/60000 (34%)]\tLoss: 0.510977\n",
      "Train Epoch: 2 [21120/60000 (35%)]\tLoss: 0.221990\n",
      "Train Epoch: 2 [21760/60000 (36%)]\tLoss: 0.397648\n",
      "Train Epoch: 2 [22400/60000 (37%)]\tLoss: 0.294955\n",
      "Train Epoch: 2 [23040/60000 (38%)]\tLoss: 0.284046\n",
      "Train Epoch: 2 [23680/60000 (39%)]\tLoss: 0.431930\n",
      "Train Epoch: 2 [24320/60000 (41%)]\tLoss: 0.261659\n",
      "Train Epoch: 2 [24960/60000 (42%)]\tLoss: 0.281667\n",
      "Train Epoch: 2 [25600/60000 (43%)]\tLoss: 0.146034\n",
      "Train Epoch: 2 [26240/60000 (44%)]\tLoss: 0.311067\n",
      "Train Epoch: 2 [26880/60000 (45%)]\tLoss: 0.179605\n",
      "Train Epoch: 2 [27520/60000 (46%)]\tLoss: 0.376105\n",
      "Train Epoch: 2 [28160/60000 (47%)]\tLoss: 0.333141\n",
      "Train Epoch: 2 [28800/60000 (48%)]\tLoss: 0.344527\n",
      "Train Epoch: 2 [29440/60000 (49%)]\tLoss: 0.307492\n",
      "Train Epoch: 2 [30080/60000 (50%)]\tLoss: 0.414006\n",
      "Train Epoch: 2 [30720/60000 (51%)]\tLoss: 0.468974\n",
      "Train Epoch: 2 [31360/60000 (52%)]\tLoss: 0.306356\n",
      "Train Epoch: 2 [32000/60000 (53%)]\tLoss: 0.255823\n",
      "Train Epoch: 2 [32640/60000 (54%)]\tLoss: 0.357852\n",
      "Train Epoch: 2 [33280/60000 (55%)]\tLoss: 0.316587\n",
      "Train Epoch: 2 [33920/60000 (57%)]\tLoss: 0.439595\n",
      "Train Epoch: 2 [34560/60000 (58%)]\tLoss: 0.217076\n",
      "Train Epoch: 2 [35200/60000 (59%)]\tLoss: 0.345531\n",
      "Train Epoch: 2 [35840/60000 (60%)]\tLoss: 0.356251\n",
      "Train Epoch: 2 [36480/60000 (61%)]\tLoss: 0.310530\n",
      "Train Epoch: 2 [37120/60000 (62%)]\tLoss: 0.348575\n",
      "Train Epoch: 2 [37760/60000 (63%)]\tLoss: 0.357549\n",
      "Train Epoch: 2 [38400/60000 (64%)]\tLoss: 0.321542\n",
      "Train Epoch: 2 [39040/60000 (65%)]\tLoss: 0.360750\n",
      "Train Epoch: 2 [39680/60000 (66%)]\tLoss: 0.168975\n",
      "Train Epoch: 2 [40320/60000 (67%)]\tLoss: 0.390249\n",
      "Train Epoch: 2 [40960/60000 (68%)]\tLoss: 0.352917\n",
      "Train Epoch: 2 [41600/60000 (69%)]\tLoss: 0.391505\n",
      "Train Epoch: 2 [42240/60000 (70%)]\tLoss: 0.399032\n",
      "Train Epoch: 2 [42880/60000 (71%)]\tLoss: 0.312981\n",
      "Train Epoch: 2 [43520/60000 (72%)]\tLoss: 0.359792\n",
      "Train Epoch: 2 [44160/60000 (74%)]\tLoss: 0.396897\n",
      "Train Epoch: 2 [44800/60000 (75%)]\tLoss: 0.266232\n",
      "Train Epoch: 2 [45440/60000 (76%)]\tLoss: 0.166044\n",
      "Train Epoch: 2 [46080/60000 (77%)]\tLoss: 0.305460\n",
      "Train Epoch: 2 [46720/60000 (78%)]\tLoss: 0.188605\n",
      "Train Epoch: 2 [47360/60000 (79%)]\tLoss: 0.468757\n",
      "Train Epoch: 2 [48000/60000 (80%)]\tLoss: 0.406659\n",
      "Train Epoch: 2 [48640/60000 (81%)]\tLoss: 0.305161\n",
      "Train Epoch: 2 [49280/60000 (82%)]\tLoss: 0.276838\n",
      "Train Epoch: 2 [49920/60000 (83%)]\tLoss: 0.569457\n",
      "Train Epoch: 2 [50560/60000 (84%)]\tLoss: 0.217299\n",
      "Train Epoch: 2 [51200/60000 (85%)]\tLoss: 0.158519\n",
      "Train Epoch: 2 [51840/60000 (86%)]\tLoss: 0.373229\n",
      "Train Epoch: 2 [52480/60000 (87%)]\tLoss: 0.289767\n",
      "Train Epoch: 2 [53120/60000 (88%)]\tLoss: 0.345857\n",
      "Train Epoch: 2 [53760/60000 (90%)]\tLoss: 0.317569\n",
      "Train Epoch: 2 [54400/60000 (91%)]\tLoss: 0.250169\n",
      "Train Epoch: 2 [55040/60000 (92%)]\tLoss: 0.245154\n",
      "Train Epoch: 2 [55680/60000 (93%)]\tLoss: 0.372041\n",
      "Train Epoch: 2 [56320/60000 (94%)]\tLoss: 0.192765\n",
      "Train Epoch: 2 [56960/60000 (95%)]\tLoss: 0.171763\n",
      "Train Epoch: 2 [57600/60000 (96%)]\tLoss: 0.466345\n",
      "Train Epoch: 2 [58240/60000 (97%)]\tLoss: 0.296239\n",
      "Train Epoch: 2 [58880/60000 (98%)]\tLoss: 0.306151\n",
      "Train Epoch: 2 [59520/60000 (99%)]\tLoss: 0.297584\n",
      "\n",
      "Test set: Avg. loss: 0.1116, Accuracy: 9656/10000 (97%)\n",
      "\n",
      "Train Epoch: 3 [0/60000 (0%)]\tLoss: 0.168350\n",
      "Train Epoch: 3 [640/60000 (1%)]\tLoss: 0.387308\n",
      "Train Epoch: 3 [1280/60000 (2%)]\tLoss: 0.206045\n",
      "Train Epoch: 3 [1920/60000 (3%)]\tLoss: 0.411869\n",
      "Train Epoch: 3 [2560/60000 (4%)]\tLoss: 0.162980\n",
      "Train Epoch: 3 [3200/60000 (5%)]\tLoss: 0.337914\n",
      "Train Epoch: 3 [3840/60000 (6%)]\tLoss: 0.161555\n",
      "Train Epoch: 3 [4480/60000 (7%)]\tLoss: 0.433544\n",
      "Train Epoch: 3 [5120/60000 (9%)]\tLoss: 0.203255\n",
      "Train Epoch: 3 [5760/60000 (10%)]\tLoss: 0.320035\n",
      "Train Epoch: 3 [6400/60000 (11%)]\tLoss: 0.283894\n",
      "Train Epoch: 3 [7040/60000 (12%)]\tLoss: 0.332735\n",
      "Train Epoch: 3 [7680/60000 (13%)]\tLoss: 0.273849\n",
      "Train Epoch: 3 [8320/60000 (14%)]\tLoss: 0.292343\n",
      "Train Epoch: 3 [8960/60000 (15%)]\tLoss: 0.258087\n",
      "Train Epoch: 3 [9600/60000 (16%)]\tLoss: 0.258705\n",
      "Train Epoch: 3 [10240/60000 (17%)]\tLoss: 0.380790\n",
      "Train Epoch: 3 [10880/60000 (18%)]\tLoss: 0.351263\n",
      "Train Epoch: 3 [11520/60000 (19%)]\tLoss: 0.384795\n",
      "Train Epoch: 3 [12160/60000 (20%)]\tLoss: 0.210584\n",
      "Train Epoch: 3 [12800/60000 (21%)]\tLoss: 0.426938\n",
      "Train Epoch: 3 [13440/60000 (22%)]\tLoss: 0.221341\n",
      "Train Epoch: 3 [14080/60000 (23%)]\tLoss: 0.206053\n",
      "Train Epoch: 3 [14720/60000 (25%)]\tLoss: 0.433057\n",
      "Train Epoch: 3 [15360/60000 (26%)]\tLoss: 0.113666\n",
      "Train Epoch: 3 [16000/60000 (27%)]\tLoss: 0.178342\n",
      "Train Epoch: 3 [16640/60000 (28%)]\tLoss: 0.208873\n",
      "Train Epoch: 3 [17280/60000 (29%)]\tLoss: 0.294366\n",
      "Train Epoch: 3 [17920/60000 (30%)]\tLoss: 0.341679\n",
      "Train Epoch: 3 [18560/60000 (31%)]\tLoss: 0.306685\n",
      "Train Epoch: 3 [19200/60000 (32%)]\tLoss: 0.514660\n",
      "Train Epoch: 3 [19840/60000 (33%)]\tLoss: 0.313627\n",
      "Train Epoch: 3 [20480/60000 (34%)]\tLoss: 0.155752\n",
      "Train Epoch: 3 [21120/60000 (35%)]\tLoss: 0.105265\n",
      "Train Epoch: 3 [21760/60000 (36%)]\tLoss: 0.158215\n",
      "Train Epoch: 3 [22400/60000 (37%)]\tLoss: 0.221384\n",
      "Train Epoch: 3 [23040/60000 (38%)]\tLoss: 0.236648\n",
      "Train Epoch: 3 [23680/60000 (39%)]\tLoss: 0.322188\n",
      "Train Epoch: 3 [24320/60000 (41%)]\tLoss: 0.194379\n",
      "Train Epoch: 3 [24960/60000 (42%)]\tLoss: 0.248211\n",
      "Train Epoch: 3 [25600/60000 (43%)]\tLoss: 0.294896\n",
      "Train Epoch: 3 [26240/60000 (44%)]\tLoss: 0.126810\n",
      "Train Epoch: 3 [26880/60000 (45%)]\tLoss: 0.361187\n",
      "Train Epoch: 3 [27520/60000 (46%)]\tLoss: 0.274972\n",
      "Train Epoch: 3 [28160/60000 (47%)]\tLoss: 0.362656\n",
      "Train Epoch: 3 [28800/60000 (48%)]\tLoss: 0.322321\n",
      "Train Epoch: 3 [29440/60000 (49%)]\tLoss: 0.221912\n",
      "Train Epoch: 3 [30080/60000 (50%)]\tLoss: 0.236171\n",
      "Train Epoch: 3 [30720/60000 (51%)]\tLoss: 0.270827\n",
      "Train Epoch: 3 [31360/60000 (52%)]\tLoss: 0.394826\n",
      "Train Epoch: 3 [32000/60000 (53%)]\tLoss: 0.440887\n",
      "Train Epoch: 3 [32640/60000 (54%)]\tLoss: 0.153061\n",
      "Train Epoch: 3 [33280/60000 (55%)]\tLoss: 0.265351\n",
      "Train Epoch: 3 [33920/60000 (57%)]\tLoss: 0.468491\n",
      "Train Epoch: 3 [34560/60000 (58%)]\tLoss: 0.190451\n",
      "Train Epoch: 3 [35200/60000 (59%)]\tLoss: 0.451087\n",
      "Train Epoch: 3 [35840/60000 (60%)]\tLoss: 0.237732\n",
      "Train Epoch: 3 [36480/60000 (61%)]\tLoss: 0.384030\n",
      "Train Epoch: 3 [37120/60000 (62%)]\tLoss: 0.201813\n",
      "Train Epoch: 3 [37760/60000 (63%)]\tLoss: 0.276309\n",
      "Train Epoch: 3 [38400/60000 (64%)]\tLoss: 0.315243\n",
      "Train Epoch: 3 [39040/60000 (65%)]\tLoss: 0.438595\n",
      "Train Epoch: 3 [39680/60000 (66%)]\tLoss: 0.246276\n",
      "Train Epoch: 3 [40320/60000 (67%)]\tLoss: 0.257876\n",
      "Train Epoch: 3 [40960/60000 (68%)]\tLoss: 0.341626\n",
      "Train Epoch: 3 [41600/60000 (69%)]\tLoss: 0.170812\n",
      "Train Epoch: 3 [42240/60000 (70%)]\tLoss: 0.373835\n",
      "Train Epoch: 3 [42880/60000 (71%)]\tLoss: 0.288669\n",
      "Train Epoch: 3 [43520/60000 (72%)]\tLoss: 0.301344\n",
      "Train Epoch: 3 [44160/60000 (74%)]\tLoss: 0.201054\n",
      "Train Epoch: 3 [44800/60000 (75%)]\tLoss: 0.409626\n",
      "Train Epoch: 3 [45440/60000 (76%)]\tLoss: 0.173551\n",
      "Train Epoch: 3 [46080/60000 (77%)]\tLoss: 0.286801\n",
      "Train Epoch: 3 [46720/60000 (78%)]\tLoss: 0.180361\n",
      "Train Epoch: 3 [47360/60000 (79%)]\tLoss: 0.273378\n",
      "Train Epoch: 3 [48000/60000 (80%)]\tLoss: 0.421335\n",
      "Train Epoch: 3 [48640/60000 (81%)]\tLoss: 0.169844\n",
      "Train Epoch: 3 [49280/60000 (82%)]\tLoss: 0.262933\n",
      "Train Epoch: 3 [49920/60000 (83%)]\tLoss: 0.267242\n",
      "Train Epoch: 3 [50560/60000 (84%)]\tLoss: 0.449289\n",
      "Train Epoch: 3 [51200/60000 (85%)]\tLoss: 0.388376\n",
      "Train Epoch: 3 [51840/60000 (86%)]\tLoss: 0.163603\n",
      "Train Epoch: 3 [52480/60000 (87%)]\tLoss: 0.157632\n",
      "Train Epoch: 3 [53120/60000 (88%)]\tLoss: 0.428124\n",
      "Train Epoch: 3 [53760/60000 (90%)]\tLoss: 0.365957\n",
      "Train Epoch: 3 [54400/60000 (91%)]\tLoss: 0.215036\n",
      "Train Epoch: 3 [55040/60000 (92%)]\tLoss: 0.197595\n",
      "Train Epoch: 3 [55680/60000 (93%)]\tLoss: 0.458024\n",
      "Train Epoch: 3 [56320/60000 (94%)]\tLoss: 0.405395\n",
      "Train Epoch: 3 [56960/60000 (95%)]\tLoss: 0.494089\n",
      "Train Epoch: 3 [57600/60000 (96%)]\tLoss: 0.341421\n",
      "Train Epoch: 3 [58240/60000 (97%)]\tLoss: 0.369532\n",
      "Train Epoch: 3 [58880/60000 (98%)]\tLoss: 0.461796\n",
      "Train Epoch: 3 [59520/60000 (99%)]\tLoss: 0.084960\n",
      "\n",
      "Test set: Avg. loss: 0.0898, Accuracy: 9702/10000 (97%)\n",
      "\n"
     ]
    }
   ],
   "source": [
    "test()\n",
    "for epoch in range(1, numEpochs + 1):\n",
    "    train(epoch)\n",
    "    test()"
   ],
   "metadata": {
    "collapsed": false
   }
  },
  {
   "cell_type": "markdown",
   "source": [
    "#loss plots\n",
    "We will plot the losses"
   ],
   "metadata": {
    "collapsed": false
   },
   "execution_count": 16
  },
  {
   "cell_type": "code",
   "execution_count": 18,
   "outputs": [
    {
     "name": "stderr",
     "output_type": "stream",
     "text": [
      "C:\\Users\\tusht\\AppData\\Local\\Temp\\ipykernel_12208\\997450198.py:7: UserWarning: Matplotlib is currently using module://matplotlib_inline.backend_inline, which is a non-GUI backend, so cannot show the figure.\n",
      "  figure.show()\n"
     ]
    },
    {
     "data": {
      "text/plain": "<Figure size 640x480 with 1 Axes>",
      "image/png": "[encoded data removed]"
     },
     "metadata": {},
     "output_type": "display_data"
    }
   ],
   "source": [
    "figure = plt.figure()\n",
    "plt.plot(train_counter,train_losses,color = \"Turquoise\")\n",
    "plt.scatter(test_counter,test_losses,color = \"Red\")\n",
    "plt.xlabel('No of training iterations')\n",
    "plt.ylabel('Negative Log likelihood loss')\n",
    "plt.legend([\"Train Loss\",\"Test Loss\"],loc=\"upper right\")\n",
    "figure.show()"
   ],
   "metadata": {
    "collapsed": false
   }
  },
  {
   "cell_type": "code",
   "execution_count": null,
   "outputs": [],
   "source": [],
   "metadata": {
    "collapsed": false
   }
  }
 ],
 "metadata": {
  "kernelspec": {
   "display_name": "Python 3",
   "language": "python",
   "name": "python3"
  },
  "language_info": {
   "codemirror_mode": {
    "name": "ipython",
    "version": 2
   },
   "file_extension": ".py",
   "mimetype": "text/x-python",
   "name": "python",
   "nbconvert_exporter": "python",
   "pygments_lexer": "ipython2",
   "version": "2.7.6"
  }
 },
 "nbformat": 4,
 "nbformat_minor": 0
}
