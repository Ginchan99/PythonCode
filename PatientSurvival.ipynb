{
 "cells": [
  {
   "cell_type": "code",
   "execution_count": 1,
   "metadata": {
    "collapsed": true
   },
   "outputs": [],
   "source": [
    "import pandas as pd\n",
    "import numpy as np\n",
    "import matplotlib.pyplot as plt\n",
    "%matplotlib inline"
   ]
  },
  {
   "cell_type": "code",
   "execution_count": 2,
   "outputs": [],
   "source": [
    "pat = pd.read_csv('Datasets/PatientSurvivaldataset.csv')"
   ],
   "metadata": {
    "collapsed": false
   }
  },
  {
   "cell_type": "code",
   "execution_count": 3,
   "outputs": [
    {
     "data": {
      "text/plain": "   encounter_id  patient_id  hospital_id   age    bmi  elective_surgery  \\\n0         66154       25312          118  68.0  22.73                 0   \n1        114252       59342           81  77.0  27.42                 0   \n2        119783       50777          118  25.0  31.95                 0   \n3         79267       46918          118  81.0  22.64                 1   \n4         92056       34377           33  19.0    NaN                 0   \n\n   ethnicity gender  height           icu_admit_source  ...  \\\n0  Caucasian      M   180.3                      Floor  ...   \n1  Caucasian      F   160.0                      Floor  ...   \n2  Caucasian      F   172.7       Accident & Emergency  ...   \n3  Caucasian      F   165.1  Operating Room / Recovery  ...   \n4  Caucasian      M   188.0       Accident & Emergency  ...   \n\n   diabetes_mellitus hepatic_failure immunosuppression  leukemia  lymphoma  \\\n0                1.0             0.0               0.0       0.0       0.0   \n1                1.0             0.0               0.0       0.0       0.0   \n2                0.0             0.0               0.0       0.0       0.0   \n3                0.0             0.0               0.0       0.0       0.0   \n4                0.0             0.0               0.0       0.0       0.0   \n\n   solid_tumor_with_metastasis  apache_3j_bodysystem  apache_2_bodysystem  \\\n0                          0.0                Sepsis       Cardiovascular   \n1                          0.0           Respiratory          Respiratory   \n2                          0.0             Metabolic            Metabolic   \n3                          0.0        Cardiovascular       Cardiovascular   \n4                          0.0                Trauma               Trauma   \n\n   Unnamed: 83  hospital_death  \n0          NaN               0  \n1          NaN               0  \n2          NaN               0  \n3          NaN               0  \n4          NaN               0  \n\n[5 rows x 85 columns]",
      "text/html": "<div>\n<style scoped>\n    .dataframe tbody tr th:only-of-type {\n        vertical-align: middle;\n    }\n\n    .dataframe tbody tr th {\n        vertical-align: top;\n    }\n\n    .dataframe thead th {\n        text-align: right;\n    }\n</style>\n<table border=\"1\" class=\"dataframe\">\n  <thead>\n    <tr style=\"text-align: right;\">\n      <th></th>\n      <th>encounter_id</th>\n      <th>patient_id</th>\n      <th>hospital_id</th>\n      <th>age</th>\n      <th>bmi</th>\n      <th>elective_surgery</th>\n      <th>ethnicity</th>\n      <th>gender</th>\n      <th>height</th>\n      <th>icu_admit_source</th>\n      <th>...</th>\n      <th>diabetes_mellitus</th>\n      <th>hepatic_failure</th>\n      <th>immunosuppression</th>\n      <th>leukemia</th>\n      <th>lymphoma</th>\n      <th>solid_tumor_with_metastasis</th>\n      <th>apache_3j_bodysystem</th>\n      <th>apache_2_bodysystem</th>\n      <th>Unnamed: 83</th>\n      <th>hospital_death</th>\n    </tr>\n  </thead>\n  <tbody>\n    <tr>\n      <th>0</th>\n      <td>66154</td>\n      <td>25312</td>\n      <td>118</td>\n      <td>68.0</td>\n      <td>22.73</td>\n      <td>0</td>\n      <td>Caucasian</td>\n      <td>M</td>\n      <td>180.3</td>\n      <td>Floor</td>\n      <td>...</td>\n      <td>1.0</td>\n      <td>0.0</td>\n      <td>0.0</td>\n      <td>0.0</td>\n      <td>0.0</td>\n      <td>0.0</td>\n      <td>Sepsis</td>\n      <td>Cardiovascular</td>\n      <td>NaN</td>\n      <td>0</td>\n    </tr>\n    <tr>\n      <th>1</th>\n      <td>114252</td>\n      <td>59342</td>\n      <td>81</td>\n      <td>77.0</td>\n      <td>27.42</td>\n      <td>0</td>\n      <td>Caucasian</td>\n      <td>F</td>\n      <td>160.0</td>\n      <td>Floor</td>\n      <td>...</td>\n      <td>1.0</td>\n      <td>0.0</td>\n      <td>0.0</td>\n      <td>0.0</td>\n      <td>0.0</td>\n      <td>0.0</td>\n      <td>Respiratory</td>\n      <td>Respiratory</td>\n      <td>NaN</td>\n      <td>0</td>\n    </tr>\n    <tr>\n      <th>2</th>\n      <td>119783</td>\n      <td>50777</td>\n      <td>118</td>\n      <td>25.0</td>\n      <td>31.95</td>\n      <td>0</td>\n      <td>Caucasian</td>\n      <td>F</td>\n      <td>172.7</td>\n      <td>Accident &amp; Emergency</td>\n      <td>...</td>\n      <td>0.0</td>\n      <td>0.0</td>\n      <td>0.0</td>\n      <td>0.0</td>\n      <td>0.0</td>\n      <td>0.0</td>\n      <td>Metabolic</td>\n      <td>Metabolic</td>\n      <td>NaN</td>\n      <td>0</td>\n    </tr>\n    <tr>\n      <th>3</th>\n      <td>79267</td>\n      <td>46918</td>\n      <td>118</td>\n      <td>81.0</td>\n      <td>22.64</td>\n      <td>1</td>\n      <td>Caucasian</td>\n      <td>F</td>\n      <td>165.1</td>\n      <td>Operating Room / Recovery</td>\n      <td>...</td>\n      <td>0.0</td>\n      <td>0.0</td>\n      <td>0.0</td>\n      <td>0.0</td>\n      <td>0.0</td>\n      <td>0.0</td>\n      <td>Cardiovascular</td>\n      <td>Cardiovascular</td>\n      <td>NaN</td>\n      <td>0</td>\n    </tr>\n    <tr>\n      <th>4</th>\n      <td>92056</td>\n      <td>34377</td>\n      <td>33</td>\n      <td>19.0</td>\n      <td>NaN</td>\n      <td>0</td>\n      <td>Caucasian</td>\n      <td>M</td>\n      <td>188.0</td>\n      <td>Accident &amp; Emergency</td>\n      <td>...</td>\n      <td>0.0</td>\n      <td>0.0</td>\n      <td>0.0</td>\n      <td>0.0</td>\n      <td>0.0</td>\n      <td>0.0</td>\n      <td>Trauma</td>\n      <td>Trauma</td>\n      <td>NaN</td>\n      <td>0</td>\n    </tr>\n  </tbody>\n</table>\n<p>5 rows × 85 columns</p>\n</div>"
     },
     "execution_count": 3,
     "metadata": {},
     "output_type": "execute_result"
    }
   ],
   "source": [
    "pat.head()"
   ],
   "metadata": {
    "collapsed": false
   }
  },
  {
   "cell_type": "code",
   "execution_count": 4,
   "outputs": [
    {
     "data": {
      "text/plain": "       encounter_id  patient_id  hospital_id   age        bmi  \\\n0             66154       25312          118  68.0  22.730000   \n1            114252       59342           81  77.0  27.420000   \n2            119783       50777          118  25.0  31.950000   \n3             79267       46918          118  81.0  22.640000   \n4             92056       34377           33  19.0        NaN   \n...             ...         ...          ...   ...        ...   \n91708         91592       78108           30  75.0  23.060250   \n91709         66119       13486          121  56.0  47.179671   \n91710          8981       58179          195  48.0  27.236914   \n91711         33776      120598           66   NaN  23.297481   \n91712          1671       53612          104  82.0  22.031250   \n\n       elective_surgery  ethnicity gender  height           icu_admit_source  \\\n0                     0  Caucasian      M   180.3                      Floor   \n1                     0  Caucasian      F   160.0                      Floor   \n2                     0  Caucasian      F   172.7       Accident & Emergency   \n3                     1  Caucasian      F   165.1  Operating Room / Recovery   \n4                     0  Caucasian      M   188.0       Accident & Emergency   \n...                 ...        ...    ...     ...                        ...   \n91708                 0  Caucasian      M   177.8                      Floor   \n91709                 0  Caucasian      F   183.0                      Floor   \n91710                 0  Caucasian      M   170.2       Accident & Emergency   \n91711                 0  Caucasian      F   154.9       Accident & Emergency   \n91712                 1  Caucasian      F   160.0  Operating Room / Recovery   \n\n       ...  cirrhosis diabetes_mellitus hepatic_failure  immunosuppression  \\\n0      ...        0.0               1.0             0.0                0.0   \n1      ...        0.0               1.0             0.0                0.0   \n2      ...        0.0               0.0             0.0                0.0   \n3      ...        0.0               0.0             0.0                0.0   \n4      ...        0.0               0.0             0.0                0.0   \n...    ...        ...               ...             ...                ...   \n91708  ...        0.0               1.0             0.0                0.0   \n91709  ...        0.0               0.0             0.0                0.0   \n91710  ...        0.0               1.0             0.0                0.0   \n91711  ...        0.0               0.0             0.0                0.0   \n91712  ...        0.0               0.0             0.0                0.0   \n\n       leukemia  lymphoma  solid_tumor_with_metastasis  apache_3j_bodysystem  \\\n0           0.0       0.0                          0.0                Sepsis   \n1           0.0       0.0                          0.0           Respiratory   \n2           0.0       0.0                          0.0             Metabolic   \n3           0.0       0.0                          0.0        Cardiovascular   \n4           0.0       0.0                          0.0                Trauma   \n...         ...       ...                          ...                   ...   \n91708       0.0       0.0                          1.0                Sepsis   \n91709       0.0       0.0                          0.0                Sepsis   \n91710       0.0       0.0                          0.0             Metabolic   \n91711       0.0       0.0                          0.0           Respiratory   \n91712       0.0       0.0                          0.0      Gastrointestinal   \n\n       apache_2_bodysystem  hospital_death  \n0           Cardiovascular               0  \n1              Respiratory               0  \n2                Metabolic               0  \n3           Cardiovascular               0  \n4                   Trauma               0  \n...                    ...             ...  \n91708       Cardiovascular               0  \n91709       Cardiovascular               0  \n91710            Metabolic               0  \n91711          Respiratory               0  \n91712     Gastrointestinal               0  \n\n[91713 rows x 84 columns]",
      "text/html": "<div>\n<style scoped>\n    .dataframe tbody tr th:only-of-type {\n        vertical-align: middle;\n    }\n\n    .dataframe tbody tr th {\n        vertical-align: top;\n    }\n\n    .dataframe thead th {\n        text-align: right;\n    }\n</style>\n<table border=\"1\" class=\"dataframe\">\n  <thead>\n    <tr style=\"text-align: right;\">\n      <th></th>\n      <th>encounter_id</th>\n      <th>patient_id</th>\n      <th>hospital_id</th>\n      <th>age</th>\n      <th>bmi</th>\n      <th>elective_surgery</th>\n      <th>ethnicity</th>\n      <th>gender</th>\n      <th>height</th>\n      <th>icu_admit_source</th>\n      <th>...</th>\n      <th>cirrhosis</th>\n      <th>diabetes_mellitus</th>\n      <th>hepatic_failure</th>\n      <th>immunosuppression</th>\n      <th>leukemia</th>\n      <th>lymphoma</th>\n      <th>solid_tumor_with_metastasis</th>\n      <th>apache_3j_bodysystem</th>\n      <th>apache_2_bodysystem</th>\n      <th>hospital_death</th>\n    </tr>\n  </thead>\n  <tbody>\n    <tr>\n      <th>0</th>\n      <td>66154</td>\n      <td>25312</td>\n      <td>118</td>\n      <td>68.0</td>\n      <td>22.730000</td>\n      <td>0</td>\n      <td>Caucasian</td>\n      <td>M</td>\n      <td>180.3</td>\n      <td>Floor</td>\n      <td>...</td>\n      <td>0.0</td>\n      <td>1.0</td>\n      <td>0.0</td>\n      <td>0.0</td>\n      <td>0.0</td>\n      <td>0.0</td>\n      <td>0.0</td>\n      <td>Sepsis</td>\n      <td>Cardiovascular</td>\n      <td>0</td>\n    </tr>\n    <tr>\n      <th>1</th>\n      <td>114252</td>\n      <td>59342</td>\n      <td>81</td>\n      <td>77.0</td>\n      <td>27.420000</td>\n      <td>0</td>\n      <td>Caucasian</td>\n      <td>F</td>\n      <td>160.0</td>\n      <td>Floor</td>\n      <td>...</td>\n      <td>0.0</td>\n      <td>1.0</td>\n      <td>0.0</td>\n      <td>0.0</td>\n      <td>0.0</td>\n      <td>0.0</td>\n      <td>0.0</td>\n      <td>Respiratory</td>\n      <td>Respiratory</td>\n      <td>0</td>\n    </tr>\n    <tr>\n      <th>2</th>\n      <td>119783</td>\n      <td>50777</td>\n      <td>118</td>\n      <td>25.0</td>\n      <td>31.950000</td>\n      <td>0</td>\n      <td>Caucasian</td>\n      <td>F</td>\n      <td>172.7</td>\n      <td>Accident &amp; Emergency</td>\n      <td>...</td>\n      <td>0.0</td>\n      <td>0.0</td>\n      <td>0.0</td>\n      <td>0.0</td>\n      <td>0.0</td>\n      <td>0.0</td>\n      <td>0.0</td>\n      <td>Metabolic</td>\n      <td>Metabolic</td>\n      <td>0</td>\n    </tr>\n    <tr>\n      <th>3</th>\n      <td>79267</td>\n      <td>46918</td>\n      <td>118</td>\n      <td>81.0</td>\n      <td>22.640000</td>\n      <td>1</td>\n      <td>Caucasian</td>\n      <td>F</td>\n      <td>165.1</td>\n      <td>Operating Room / Recovery</td>\n      <td>...</td>\n      <td>0.0</td>\n      <td>0.0</td>\n      <td>0.0</td>\n      <td>0.0</td>\n      <td>0.0</td>\n      <td>0.0</td>\n      <td>0.0</td>\n      <td>Cardiovascular</td>\n      <td>Cardiovascular</td>\n      <td>0</td>\n    </tr>\n    <tr>\n      <th>4</th>\n      <td>92056</td>\n      <td>34377</td>\n      <td>33</td>\n      <td>19.0</td>\n      <td>NaN</td>\n      <td>0</td>\n      <td>Caucasian</td>\n      <td>M</td>\n      <td>188.0</td>\n      <td>Accident &amp; Emergency</td>\n      <td>...</td>\n      <td>0.0</td>\n      <td>0.0</td>\n      <td>0.0</td>\n      <td>0.0</td>\n      <td>0.0</td>\n      <td>0.0</td>\n      <td>0.0</td>\n      <td>Trauma</td>\n      <td>Trauma</td>\n      <td>0</td>\n    </tr>\n    <tr>\n      <th>...</th>\n      <td>...</td>\n      <td>...</td>\n      <td>...</td>\n      <td>...</td>\n      <td>...</td>\n      <td>...</td>\n      <td>...</td>\n      <td>...</td>\n      <td>...</td>\n      <td>...</td>\n      <td>...</td>\n      <td>...</td>\n      <td>...</td>\n      <td>...</td>\n      <td>...</td>\n      <td>...</td>\n      <td>...</td>\n      <td>...</td>\n      <td>...</td>\n      <td>...</td>\n      <td>...</td>\n    </tr>\n    <tr>\n      <th>91708</th>\n      <td>91592</td>\n      <td>78108</td>\n      <td>30</td>\n      <td>75.0</td>\n      <td>23.060250</td>\n      <td>0</td>\n      <td>Caucasian</td>\n      <td>M</td>\n      <td>177.8</td>\n      <td>Floor</td>\n      <td>...</td>\n      <td>0.0</td>\n      <td>1.0</td>\n      <td>0.0</td>\n      <td>0.0</td>\n      <td>0.0</td>\n      <td>0.0</td>\n      <td>1.0</td>\n      <td>Sepsis</td>\n      <td>Cardiovascular</td>\n      <td>0</td>\n    </tr>\n    <tr>\n      <th>91709</th>\n      <td>66119</td>\n      <td>13486</td>\n      <td>121</td>\n      <td>56.0</td>\n      <td>47.179671</td>\n      <td>0</td>\n      <td>Caucasian</td>\n      <td>F</td>\n      <td>183.0</td>\n      <td>Floor</td>\n      <td>...</td>\n      <td>0.0</td>\n      <td>0.0</td>\n      <td>0.0</td>\n      <td>0.0</td>\n      <td>0.0</td>\n      <td>0.0</td>\n      <td>0.0</td>\n      <td>Sepsis</td>\n      <td>Cardiovascular</td>\n      <td>0</td>\n    </tr>\n    <tr>\n      <th>91710</th>\n      <td>8981</td>\n      <td>58179</td>\n      <td>195</td>\n      <td>48.0</td>\n      <td>27.236914</td>\n      <td>0</td>\n      <td>Caucasian</td>\n      <td>M</td>\n      <td>170.2</td>\n      <td>Accident &amp; Emergency</td>\n      <td>...</td>\n      <td>0.0</td>\n      <td>1.0</td>\n      <td>0.0</td>\n      <td>0.0</td>\n      <td>0.0</td>\n      <td>0.0</td>\n      <td>0.0</td>\n      <td>Metabolic</td>\n      <td>Metabolic</td>\n      <td>0</td>\n    </tr>\n    <tr>\n      <th>91711</th>\n      <td>33776</td>\n      <td>120598</td>\n      <td>66</td>\n      <td>NaN</td>\n      <td>23.297481</td>\n      <td>0</td>\n      <td>Caucasian</td>\n      <td>F</td>\n      <td>154.9</td>\n      <td>Accident &amp; Emergency</td>\n      <td>...</td>\n      <td>0.0</td>\n      <td>0.0</td>\n      <td>0.0</td>\n      <td>0.0</td>\n      <td>0.0</td>\n      <td>0.0</td>\n      <td>0.0</td>\n      <td>Respiratory</td>\n      <td>Respiratory</td>\n      <td>0</td>\n    </tr>\n    <tr>\n      <th>91712</th>\n      <td>1671</td>\n      <td>53612</td>\n      <td>104</td>\n      <td>82.0</td>\n      <td>22.031250</td>\n      <td>1</td>\n      <td>Caucasian</td>\n      <td>F</td>\n      <td>160.0</td>\n      <td>Operating Room / Recovery</td>\n      <td>...</td>\n      <td>0.0</td>\n      <td>0.0</td>\n      <td>0.0</td>\n      <td>0.0</td>\n      <td>0.0</td>\n      <td>0.0</td>\n      <td>0.0</td>\n      <td>Gastrointestinal</td>\n      <td>Gastrointestinal</td>\n      <td>0</td>\n    </tr>\n  </tbody>\n</table>\n<p>91713 rows × 84 columns</p>\n</div>"
     },
     "execution_count": 4,
     "metadata": {},
     "output_type": "execute_result"
    }
   ],
   "source": [
    "pat.drop('Unnamed: 83',axis=1)"
   ],
   "metadata": {
    "collapsed": false
   }
  },
  {
   "cell_type": "code",
   "execution_count": null,
   "outputs": [],
   "source": [],
   "metadata": {
    "collapsed": false
   }
  },
  {
   "cell_type": "code",
   "execution_count": null,
   "outputs": [],
   "source": [],
   "metadata": {
    "collapsed": false
   }
  }
 ],
 "metadata": {
  "kernelspec": {
   "display_name": "Python 3",
   "language": "python",
   "name": "python3"
  },
  "language_info": {
   "codemirror_mode": {
    "name": "ipython",
    "version": 2
   },
   "file_extension": ".py",
   "mimetype": "text/x-python",
   "name": "python",
   "nbconvert_exporter": "python",
   "pygments_lexer": "ipython2",
   "version": "2.7.6"
  }
 },
 "nbformat": 4,
 "nbformat_minor": 0
}
